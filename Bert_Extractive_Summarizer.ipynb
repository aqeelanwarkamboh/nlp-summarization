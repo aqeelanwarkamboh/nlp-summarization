{
  "nbformat": 4,
  "nbformat_minor": 0,
  "metadata": {
    "colab": {
      "name": "Bert Extractive Summarizer.ipynb",
      "provenance": [],
      "collapsed_sections": []
    },
    "kernelspec": {
      "name": "python3",
      "display_name": "Python 3"
    },
    "language_info": {
      "name": "python"
    },
    "accelerator": "GPU"
  },
  "cells": [
    {
      "cell_type": "code",
      "metadata": {
        "id": "fCoeFhdFgpzW",
        "colab": {
          "base_uri": "https://localhost:8080/",
          "height": 17
        },
        "outputId": "09e0fee3-4119-4b29-bf9e-3af04e578f38"
      },
      "source": [
        "# CSS for line wrapping within the notebook\n",
        "from IPython.display import HTML, display\n",
        "def set_css():\n",
        "  display(HTML('<style> pre { white-space: pre-wrap; } </style>'))\n",
        "get_ipython().events.register('pre_run_cell', set_css)"
      ],
      "execution_count": 28,
      "outputs": [
        {
          "output_type": "display_data",
          "data": {
            "text/html": [
              "<style> pre { white-space: pre-wrap; } </style>"
            ],
            "text/plain": [
              "<IPython.core.display.HTML object>"
            ]
          },
          "metadata": {
            "tags": []
          }
        }
      ]
    },
    {
      "cell_type": "code",
      "metadata": {
        "colab": {
          "base_uri": "https://localhost:8080/",
          "height": 17
        },
        "id": "-5o5thYrHJEA",
        "outputId": "9cf175c1-40f7-436e-c104-62773f79d1b2"
      },
      "source": [
        "%%capture\n",
        "!pip install -q nltk\n",
        "!pip install -q rouge-score\n",
        "!pip install -q youtube_transcript_api\n",
        "!pip install -q bert-extractive-summarizer"
      ],
      "execution_count": 29,
      "outputs": [
        {
          "output_type": "display_data",
          "data": {
            "text/html": [
              "<style> pre { white-space: pre-wrap; } </style>"
            ],
            "text/plain": [
              "<IPython.core.display.HTML object>"
            ]
          },
          "metadata": {
            "tags": []
          }
        },
        {
          "output_type": "display_data",
          "data": {
            "text/html": [
              "<style> pre { white-space: pre-wrap; } </style>"
            ],
            "text/plain": [
              "<IPython.core.display.HTML object>"
            ]
          },
          "metadata": {
            "tags": []
          }
        }
      ]
    },
    {
      "cell_type": "code",
      "metadata": {
        "colab": {
          "base_uri": "https://localhost:8080/",
          "height": 53
        },
        "id": "2GUUQUDtIH0E",
        "outputId": "e6f3ded2-f19f-4b78-e933-7fddb8f9dae0"
      },
      "source": [
        "import nltk\n",
        "import pandas as pd\n",
        "import urllib.request\n",
        "nltk.download('punkt')\n",
        "from summarizer import Summarizer\n",
        "from rouge_score import rouge_scorer\n",
        "from nltk.tokenize import sent_tokenize\n",
        "from youtube_transcript_api import YouTubeTranscriptApi as youtube"
      ],
      "execution_count": 30,
      "outputs": [
        {
          "output_type": "display_data",
          "data": {
            "text/html": [
              "<style> pre { white-space: pre-wrap; } </style>"
            ],
            "text/plain": [
              "<IPython.core.display.HTML object>"
            ]
          },
          "metadata": {
            "tags": []
          }
        },
        {
          "output_type": "display_data",
          "data": {
            "text/html": [
              "<style> pre { white-space: pre-wrap; } </style>"
            ],
            "text/plain": [
              "<IPython.core.display.HTML object>"
            ]
          },
          "metadata": {
            "tags": []
          }
        },
        {
          "output_type": "stream",
          "text": [
            "[nltk_data] Downloading package punkt to /root/nltk_data...\n",
            "[nltk_data]   Package punkt is already up-to-date!\n"
          ],
          "name": "stdout"
        }
      ]
    },
    {
      "cell_type": "code",
      "metadata": {
        "id": "APgNndCpHJWz",
        "colab": {
          "base_uri": "https://localhost:8080/",
          "height": 17
        },
        "outputId": "81e9f90c-56b9-49e3-faf5-4999a6bb36ab"
      },
      "source": [
        "# DeepMind x UCL: The Deep Learning Lecture Series 2020\n",
        "# See: https://deepmind.com/learning-resources/deep-learning-lecture-series-2020\n",
        "video_id = 'JMUxmLyrhSk'\n",
        "transcript_list = youtube.list_transcripts(video_id)    # list of available transcripts\n",
        "#print (transcript_list)\n",
        "transcript = transcript_list.find_transcript(['en-GB']) # select manual English transcript\n",
        "#print (transcript)\n",
        "d = transcript.fetch()                                  # get transcript data from the video"
      ],
      "execution_count": 31,
      "outputs": [
        {
          "output_type": "display_data",
          "data": {
            "text/html": [
              "<style> pre { white-space: pre-wrap; } </style>"
            ],
            "text/plain": [
              "<IPython.core.display.HTML object>"
            ]
          },
          "metadata": {
            "tags": []
          }
        },
        {
          "output_type": "display_data",
          "data": {
            "text/html": [
              "<style> pre { white-space: pre-wrap; } </style>"
            ],
            "text/plain": [
              "<IPython.core.display.HTML object>"
            ]
          },
          "metadata": {
            "tags": []
          }
        }
      ]
    },
    {
      "cell_type": "code",
      "metadata": {
        "id": "2fd5SPqK-Ih1",
        "colab": {
          "base_uri": "https://localhost:8080/",
          "height": 206
        },
        "outputId": "1eef23c7-35f4-4d6f-e321-132e87e0af73"
      },
      "source": [
        "# Put the transcript data into a dataframe\n",
        "df1 = pd.DataFrame(d)\n",
        "df1.head()"
      ],
      "execution_count": 32,
      "outputs": [
        {
          "output_type": "display_data",
          "data": {
            "text/html": [
              "<style> pre { white-space: pre-wrap; } </style>"
            ],
            "text/plain": [
              "<IPython.core.display.HTML object>"
            ]
          },
          "metadata": {
            "tags": []
          }
        },
        {
          "output_type": "display_data",
          "data": {
            "text/html": [
              "<style> pre { white-space: pre-wrap; } </style>"
            ],
            "text/plain": [
              "<IPython.core.display.HTML object>"
            ]
          },
          "metadata": {
            "tags": []
          }
        },
        {
          "output_type": "execute_result",
          "data": {
            "text/html": [
              "<div>\n",
              "<style scoped>\n",
              "    .dataframe tbody tr th:only-of-type {\n",
              "        vertical-align: middle;\n",
              "    }\n",
              "\n",
              "    .dataframe tbody tr th {\n",
              "        vertical-align: top;\n",
              "    }\n",
              "\n",
              "    .dataframe thead th {\n",
              "        text-align: right;\n",
              "    }\n",
              "</style>\n",
              "<table border=\"1\" class=\"dataframe\">\n",
              "  <thead>\n",
              "    <tr style=\"text-align: right;\">\n",
              "      <th></th>\n",
              "      <th>text</th>\n",
              "      <th>start</th>\n",
              "      <th>duration</th>\n",
              "    </tr>\n",
              "  </thead>\n",
              "  <tbody>\n",
              "    <tr>\n",
              "      <th>0</th>\n",
              "      <td>Hello and welcome to the</td>\n",
              "      <td>7.68</td>\n",
              "      <td>3.16</td>\n",
              "    </tr>\n",
              "    <tr>\n",
              "      <th>1</th>\n",
              "      <td>UCL and DeepMind lecture series.</td>\n",
              "      <td>10.84</td>\n",
              "      <td>3.20</td>\n",
              "    </tr>\n",
              "    <tr>\n",
              "      <th>2</th>\n",
              "      <td>My name's Felix Hill and I'm</td>\n",
              "      <td>14.64</td>\n",
              "      <td>2.24</td>\n",
              "    </tr>\n",
              "    <tr>\n",
              "      <th>3</th>\n",
              "      <td>going to be talking to you about</td>\n",
              "      <td>16.88</td>\n",
              "      <td>2.48</td>\n",
              "    </tr>\n",
              "    <tr>\n",
              "      <th>4</th>\n",
              "      <td>deep learning and language</td>\n",
              "      <td>19.36</td>\n",
              "      <td>2.52</td>\n",
              "    </tr>\n",
              "  </tbody>\n",
              "</table>\n",
              "</div>"
            ],
            "text/plain": [
              "                               text  start  duration\n",
              "0          Hello and welcome to the   7.68      3.16\n",
              "1  UCL and DeepMind lecture series.  10.84      3.20\n",
              "2      My name's Felix Hill and I'm  14.64      2.24\n",
              "3  going to be talking to you about  16.88      2.48\n",
              "4        deep learning and language  19.36      2.52"
            ]
          },
          "metadata": {
            "tags": []
          },
          "execution_count": 32
        }
      ]
    },
    {
      "cell_type": "code",
      "metadata": {
        "id": "AkJ7Azuk_NFa",
        "colab": {
          "base_uri": "https://localhost:8080/",
          "height": 17
        },
        "outputId": "a8e7fc05-a6ca-42f0-a57a-06e9450bd734"
      },
      "source": [
        "# Join all of the text strings\n",
        "body = ' '.join(df1['text']).replace('\\n','').replace('\\r','') \\\n",
        "                                 .replace('\\t','').replace('  ','')"
      ],
      "execution_count": 33,
      "outputs": [
        {
          "output_type": "display_data",
          "data": {
            "text/html": [
              "<style> pre { white-space: pre-wrap; } </style>"
            ],
            "text/plain": [
              "<IPython.core.display.HTML object>"
            ]
          },
          "metadata": {
            "tags": []
          }
        },
        {
          "output_type": "display_data",
          "data": {
            "text/html": [
              "<style> pre { white-space: pre-wrap; } </style>"
            ],
            "text/plain": [
              "<IPython.core.display.HTML object>"
            ]
          },
          "metadata": {
            "tags": []
          }
        }
      ]
    },
    {
      "cell_type": "code",
      "metadata": {
        "colab": {
          "base_uri": "https://localhost:8080/",
          "height": 17
        },
        "id": "N2RnmVHRHoi7",
        "outputId": "939bcf08-f4e5-404c-e060-f07d9aaeb5ad"
      },
      "source": [
        "# Run the model and generate the summary\n",
        "model = Summarizer()\n",
        "result = model(body, num_sentences=144) #[ratio=0.3, num_sentences=144]\n",
        "full = ''.join(result)\n",
        "#print(full)"
      ],
      "execution_count": 34,
      "outputs": [
        {
          "output_type": "display_data",
          "data": {
            "text/html": [
              "<style> pre { white-space: pre-wrap; } </style>"
            ],
            "text/plain": [
              "<IPython.core.display.HTML object>"
            ]
          },
          "metadata": {
            "tags": []
          }
        },
        {
          "output_type": "display_data",
          "data": {
            "text/html": [
              "<style> pre { white-space: pre-wrap; } </style>"
            ],
            "text/plain": [
              "<IPython.core.display.HTML object>"
            ]
          },
          "metadata": {
            "tags": []
          }
        }
      ]
    },
    {
      "cell_type": "code",
      "metadata": {
        "colab": {
          "base_uri": "https://localhost:8080/",
          "height": 53
        },
        "id": "SiFFpfUvK7Xq",
        "outputId": "4008517a-6b68-40df-883b-5359a9f59d29"
      },
      "source": [
        "# Segement sentences with nltk and get counts\n",
        "sentences = sent_tokenize(full)\n",
        "summ_wc = len(full.split())\n",
        "summ_sc = len(sentences)\n",
        "print('Machine summary word count:', summ_wc)\n",
        "print('Machine summary sentence count:', summ_sc)"
      ],
      "execution_count": 35,
      "outputs": [
        {
          "output_type": "display_data",
          "data": {
            "text/html": [
              "<style> pre { white-space: pre-wrap; } </style>"
            ],
            "text/plain": [
              "<IPython.core.display.HTML object>"
            ]
          },
          "metadata": {
            "tags": []
          }
        },
        {
          "output_type": "display_data",
          "data": {
            "text/html": [
              "<style> pre { white-space: pre-wrap; } </style>"
            ],
            "text/plain": [
              "<IPython.core.display.HTML object>"
            ]
          },
          "metadata": {
            "tags": []
          }
        },
        {
          "output_type": "stream",
          "text": [
            "Machine summary word count: 3713\n",
            "Machine summary sentence count: 144\n"
          ],
          "name": "stdout"
        }
      ]
    },
    {
      "cell_type": "code",
      "metadata": {
        "colab": {
          "base_uri": "https://localhost:8080/",
          "height": 17
        },
        "id": "h8tFYhxXmq80",
        "outputId": "f19d9d9c-65fa-4307-9889-92a62e2b6609"
      },
      "source": [
        "# Output the summary to a text file\n",
        "machine_filename = 'summary_bert_%s_%s.txt' % (summ_sc, summ_wc)\n",
        "with open(machine_filename, 'w') as f:\n",
        "    f.write(full)"
      ],
      "execution_count": 36,
      "outputs": [
        {
          "output_type": "display_data",
          "data": {
            "text/html": [
              "<style> pre { white-space: pre-wrap; } </style>"
            ],
            "text/plain": [
              "<IPython.core.display.HTML object>"
            ]
          },
          "metadata": {
            "tags": []
          }
        },
        {
          "output_type": "display_data",
          "data": {
            "text/html": [
              "<style> pre { white-space: pre-wrap; } </style>"
            ],
            "text/plain": [
              "<IPython.core.display.HTML object>"
            ]
          },
          "metadata": {
            "tags": []
          }
        }
      ]
    },
    {
      "cell_type": "code",
      "metadata": {
        "colab": {
          "base_uri": "https://localhost:8080/",
          "height": 17
        },
        "id": "BoavgCoGLWgi",
        "outputId": "037825b8-06b1-4200-d25e-f8dbb61ae6df"
      },
      "source": [
        "# Open the machine summary\n",
        "with open(machine_filename, 'r') as f:\n",
        "    machine_file = f.read()"
      ],
      "execution_count": 40,
      "outputs": [
        {
          "output_type": "display_data",
          "data": {
            "text/html": [
              "<style> pre { white-space: pre-wrap; } </style>"
            ],
            "text/plain": [
              "<IPython.core.display.HTML object>"
            ]
          },
          "metadata": {
            "tags": []
          }
        },
        {
          "output_type": "display_data",
          "data": {
            "text/html": [
              "<style> pre { white-space: pre-wrap; } </style>"
            ],
            "text/plain": [
              "<IPython.core.display.HTML object>"
            ]
          },
          "metadata": {
            "tags": []
          }
        }
      ]
    },
    {
      "cell_type": "code",
      "metadata": {
        "colab": {
          "base_uri": "https://localhost:8080/",
          "height": 53
        },
        "id": "KSfCjgg0_xXb",
        "outputId": "110b9a5b-b044-4de3-efb4-e4da2bd299cf"
      },
      "source": [
        "# Open the human summary and get counts\n",
        "human_url = 'https://mkreager.github.io/nlp-summarization/human.txt'\n",
        "\n",
        "with urllib.request.urlopen(human_url) as response:\n",
        "   human_file = response.read().decode('utf-8')\n",
        "\n",
        "human_wc = len(human_file.split())\n",
        "human_sc = len(sent_tokenize(human_file))\n",
        "assert human_sc == summ_sc\n",
        "\n",
        "#print(human_file)\n",
        "print('Human summary word count:', human_wc)\n",
        "print('Human summary sentence:', human_sc)"
      ],
      "execution_count": 41,
      "outputs": [
        {
          "output_type": "display_data",
          "data": {
            "text/html": [
              "<style> pre { white-space: pre-wrap; } </style>"
            ],
            "text/plain": [
              "<IPython.core.display.HTML object>"
            ]
          },
          "metadata": {
            "tags": []
          }
        },
        {
          "output_type": "display_data",
          "data": {
            "text/html": [
              "<style> pre { white-space: pre-wrap; } </style>"
            ],
            "text/plain": [
              "<IPython.core.display.HTML object>"
            ]
          },
          "metadata": {
            "tags": []
          }
        },
        {
          "output_type": "stream",
          "text": [
            "Human summary word count: 6703\n",
            "Human summary sentence: 144\n"
          ],
          "name": "stdout"
        }
      ]
    },
    {
      "cell_type": "code",
      "metadata": {
        "colab": {
          "base_uri": "https://localhost:8080/",
          "height": 72
        },
        "id": "lGNP9Sxm9KG9",
        "outputId": "61523a1f-d9ea-42a8-f279-41f68e4b87a6"
      },
      "source": [
        "# Evaluate the machine summary vs. human summary\n",
        "scorer = rouge_scorer.RougeScorer(['rouge1', 'rouge2', 'rougeL'], use_stemmer=True)\n",
        "scores = scorer.score(human_file, machine_file)\n",
        "print(scores)"
      ],
      "execution_count": 42,
      "outputs": [
        {
          "output_type": "display_data",
          "data": {
            "text/html": [
              "<style> pre { white-space: pre-wrap; } </style>"
            ],
            "text/plain": [
              "<IPython.core.display.HTML object>"
            ]
          },
          "metadata": {
            "tags": []
          }
        },
        {
          "output_type": "display_data",
          "data": {
            "text/html": [
              "<style> pre { white-space: pre-wrap; } </style>"
            ],
            "text/plain": [
              "<IPython.core.display.HTML object>"
            ]
          },
          "metadata": {
            "tags": []
          }
        },
        {
          "output_type": "stream",
          "text": [
            "{'rouge1': Score(precision=0.913570487483531, recall=0.5070195963732086, fmeasure=0.6521207561365561), 'rouge2': Score(precision=0.6172904586188719, recall=0.34254790112622496, fmeasure=0.44059825039977424), 'rougeL': Score(precision=0.52832674571805, recall=0.29321439017256506, fmeasure=0.37712780964920534)}\n"
          ],
          "name": "stdout"
        }
      ]
    }
  ]
}

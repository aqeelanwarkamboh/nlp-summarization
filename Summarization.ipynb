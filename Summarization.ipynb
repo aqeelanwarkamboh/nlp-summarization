{
  "nbformat": 4,
  "nbformat_minor": 0,
  "metadata": {
    "colab": {
      "name": "Summarization.ipynb",
      "provenance": [],
      "collapsed_sections": []
    },
    "kernelspec": {
      "name": "python3",
      "display_name": "Python 3"
    },
    "language_info": {
      "name": "python"
    },
    "accelerator": "GPU"
  },
  "cells": [
    {
      "cell_type": "code",
      "metadata": {
        "id": "fCoeFhdFgpzW",
        "colab": {
          "base_uri": "https://localhost:8080/",
          "height": 17
        },
        "outputId": "dcae5518-369e-43c6-b782-ef15af0d8e1b"
      },
      "source": [
        "# CSS for line wrapping within the notebook\n",
        "from IPython.display import HTML, display\n",
        "def set_css():\n",
        "  display(HTML('<style> pre { white-space: pre-wrap; } </style>'))\n",
        "get_ipython().events.register('pre_run_cell', set_css)"
      ],
      "execution_count": 98,
      "outputs": [
        {
          "output_type": "display_data",
          "data": {
            "text/html": [
              "<style> pre { white-space: pre-wrap; } </style>"
            ],
            "text/plain": [
              "<IPython.core.display.HTML object>"
            ]
          },
          "metadata": {
            "tags": []
          }
        },
        {
          "output_type": "display_data",
          "data": {
            "text/html": [
              "<style> pre { white-space: pre-wrap; } </style>"
            ],
            "text/plain": [
              "<IPython.core.display.HTML object>"
            ]
          },
          "metadata": {
            "tags": []
          }
        },
        {
          "output_type": "display_data",
          "data": {
            "text/html": [
              "<style> pre { white-space: pre-wrap; } </style>"
            ],
            "text/plain": [
              "<IPython.core.display.HTML object>"
            ]
          },
          "metadata": {
            "tags": []
          }
        }
      ]
    },
    {
      "cell_type": "code",
      "metadata": {
        "id": "dGnm0Z2DCSn7",
        "colab": {
          "base_uri": "https://localhost:8080/",
          "height": 17
        },
        "outputId": "e560e55b-c33f-4f14-eb05-75991fcd69ea"
      },
      "source": [
        "%%capture\n",
        "!pip install -q nltk\n",
        "!pip install -q spacy\n",
        "!pip install -q rouge-score\n",
        "!pip install -q transformers\n",
        "!pip install -q -U pytextrank\n",
        "!pip install -q youtube_transcript_api\n",
        "!python -m spacy download en_core_web_sm"
      ],
      "execution_count": 99,
      "outputs": [
        {
          "output_type": "display_data",
          "data": {
            "text/html": [
              "<style> pre { white-space: pre-wrap; } </style>"
            ],
            "text/plain": [
              "<IPython.core.display.HTML object>"
            ]
          },
          "metadata": {
            "tags": []
          }
        },
        {
          "output_type": "display_data",
          "data": {
            "text/html": [
              "<style> pre { white-space: pre-wrap; } </style>"
            ],
            "text/plain": [
              "<IPython.core.display.HTML object>"
            ]
          },
          "metadata": {
            "tags": []
          }
        },
        {
          "output_type": "display_data",
          "data": {
            "text/html": [
              "<style> pre { white-space: pre-wrap; } </style>"
            ],
            "text/plain": [
              "<IPython.core.display.HTML object>"
            ]
          },
          "metadata": {
            "tags": []
          }
        },
        {
          "output_type": "display_data",
          "data": {
            "text/html": [
              "<style> pre { white-space: pre-wrap; } </style>"
            ],
            "text/plain": [
              "<IPython.core.display.HTML object>"
            ]
          },
          "metadata": {
            "tags": []
          }
        }
      ]
    },
    {
      "cell_type": "code",
      "metadata": {
        "id": "kP4lLQHUXLJg",
        "colab": {
          "base_uri": "https://localhost:8080/",
          "height": 53
        },
        "outputId": "8b188f4e-07bc-46d6-f1ff-2f9a22370789"
      },
      "source": [
        "import re\n",
        "import gc\n",
        "import nltk\n",
        "import torch\n",
        "import spacy\n",
        "import pytextrank\n",
        "import pandas as pd\n",
        "from math import ceil\n",
        "import urllib.request\n",
        "nltk.download('punkt')\n",
        "from spacy.language import Language\n",
        "from rouge_score import rouge_scorer\n",
        "from nltk.tokenize import sent_tokenize\n",
        "from youtube_transcript_api import YouTubeTranscriptApi as youtube\n",
        "from transformers import LEDForConditionalGeneration, LEDTokenizer\n",
        "device = \"cuda\" if torch.cuda.is_available() else \"cpu\" # use GPU if available"
      ],
      "execution_count": 100,
      "outputs": [
        {
          "output_type": "display_data",
          "data": {
            "text/html": [
              "<style> pre { white-space: pre-wrap; } </style>"
            ],
            "text/plain": [
              "<IPython.core.display.HTML object>"
            ]
          },
          "metadata": {
            "tags": []
          }
        },
        {
          "output_type": "display_data",
          "data": {
            "text/html": [
              "<style> pre { white-space: pre-wrap; } </style>"
            ],
            "text/plain": [
              "<IPython.core.display.HTML object>"
            ]
          },
          "metadata": {
            "tags": []
          }
        },
        {
          "output_type": "display_data",
          "data": {
            "text/html": [
              "<style> pre { white-space: pre-wrap; } </style>"
            ],
            "text/plain": [
              "<IPython.core.display.HTML object>"
            ]
          },
          "metadata": {
            "tags": []
          }
        },
        {
          "output_type": "display_data",
          "data": {
            "text/html": [
              "<style> pre { white-space: pre-wrap; } </style>"
            ],
            "text/plain": [
              "<IPython.core.display.HTML object>"
            ]
          },
          "metadata": {
            "tags": []
          }
        },
        {
          "output_type": "stream",
          "text": [
            "[nltk_data] Downloading package punkt to /root/nltk_data...\n",
            "[nltk_data]   Package punkt is already up-to-date!\n"
          ],
          "name": "stdout"
        }
      ]
    },
    {
      "cell_type": "code",
      "metadata": {
        "id": "APgNndCpHJWz",
        "colab": {
          "base_uri": "https://localhost:8080/",
          "height": 17
        },
        "outputId": "04322b24-9808-4d43-bc48-97308eb68597"
      },
      "source": [
        "# DeepMind x UCL: The Deep Learning Lecture Series 2020\n",
        "# See: https://deepmind.com/learning-resources/deep-learning-lecture-series-2020\n",
        "video_id = '8zAP2qWAsKg'\n",
        "transcript_list = youtube.list_transcripts(video_id)    # list of available transcripts\n",
        "#print (transcript_list)\n",
        "transcript = transcript_list.find_transcript(['en-GB']) # select manual English transcript\n",
        "#print (transcript)\n",
        "d = transcript.fetch()                                  # get transcript data from the video"
      ],
      "execution_count": 101,
      "outputs": [
        {
          "output_type": "display_data",
          "data": {
            "text/html": [
              "<style> pre { white-space: pre-wrap; } </style>"
            ],
            "text/plain": [
              "<IPython.core.display.HTML object>"
            ]
          },
          "metadata": {
            "tags": []
          }
        },
        {
          "output_type": "display_data",
          "data": {
            "text/html": [
              "<style> pre { white-space: pre-wrap; } </style>"
            ],
            "text/plain": [
              "<IPython.core.display.HTML object>"
            ]
          },
          "metadata": {
            "tags": []
          }
        },
        {
          "output_type": "display_data",
          "data": {
            "text/html": [
              "<style> pre { white-space: pre-wrap; } </style>"
            ],
            "text/plain": [
              "<IPython.core.display.HTML object>"
            ]
          },
          "metadata": {
            "tags": []
          }
        },
        {
          "output_type": "display_data",
          "data": {
            "text/html": [
              "<style> pre { white-space: pre-wrap; } </style>"
            ],
            "text/plain": [
              "<IPython.core.display.HTML object>"
            ]
          },
          "metadata": {
            "tags": []
          }
        }
      ]
    },
    {
      "cell_type": "code",
      "metadata": {
        "id": "2fd5SPqK-Ih1",
        "colab": {
          "base_uri": "https://localhost:8080/",
          "height": 206
        },
        "outputId": "1b25c5e1-cc2d-4559-eefd-4983ac262a1c"
      },
      "source": [
        "# Put the transcript data into a dataframe\n",
        "df1 = pd.DataFrame(d)\n",
        "df1.head()"
      ],
      "execution_count": 102,
      "outputs": [
        {
          "output_type": "display_data",
          "data": {
            "text/html": [
              "<style> pre { white-space: pre-wrap; } </style>"
            ],
            "text/plain": [
              "<IPython.core.display.HTML object>"
            ]
          },
          "metadata": {
            "tags": []
          }
        },
        {
          "output_type": "display_data",
          "data": {
            "text/html": [
              "<style> pre { white-space: pre-wrap; } </style>"
            ],
            "text/plain": [
              "<IPython.core.display.HTML object>"
            ]
          },
          "metadata": {
            "tags": []
          }
        },
        {
          "output_type": "display_data",
          "data": {
            "text/html": [
              "<style> pre { white-space: pre-wrap; } </style>"
            ],
            "text/plain": [
              "<IPython.core.display.HTML object>"
            ]
          },
          "metadata": {
            "tags": []
          }
        },
        {
          "output_type": "display_data",
          "data": {
            "text/html": [
              "<style> pre { white-space: pre-wrap; } </style>"
            ],
            "text/plain": [
              "<IPython.core.display.HTML object>"
            ]
          },
          "metadata": {
            "tags": []
          }
        },
        {
          "output_type": "execute_result",
          "data": {
            "text/html": [
              "<div>\n",
              "<style scoped>\n",
              "    .dataframe tbody tr th:only-of-type {\n",
              "        vertical-align: middle;\n",
              "    }\n",
              "\n",
              "    .dataframe tbody tr th {\n",
              "        vertical-align: top;\n",
              "    }\n",
              "\n",
              "    .dataframe thead th {\n",
              "        text-align: right;\n",
              "    }\n",
              "</style>\n",
              "<table border=\"1\" class=\"dataframe\">\n",
              "  <thead>\n",
              "    <tr style=\"text-align: right;\">\n",
              "      <th></th>\n",
              "      <th>text</th>\n",
              "      <th>start</th>\n",
              "      <th>duration</th>\n",
              "    </tr>\n",
              "  </thead>\n",
              "  <tbody>\n",
              "    <tr>\n",
              "      <th>0</th>\n",
              "      <td>Hello and welcome to the</td>\n",
              "      <td>7.68</td>\n",
              "      <td>3.16</td>\n",
              "    </tr>\n",
              "    <tr>\n",
              "      <th>1</th>\n",
              "      <td>UCL and DeepMind lecture series.</td>\n",
              "      <td>10.84</td>\n",
              "      <td>3.20</td>\n",
              "    </tr>\n",
              "    <tr>\n",
              "      <th>2</th>\n",
              "      <td>My name's Felix Hill and I'm</td>\n",
              "      <td>14.64</td>\n",
              "      <td>2.24</td>\n",
              "    </tr>\n",
              "    <tr>\n",
              "      <th>3</th>\n",
              "      <td>going to be talking to you about</td>\n",
              "      <td>16.88</td>\n",
              "      <td>2.48</td>\n",
              "    </tr>\n",
              "    <tr>\n",
              "      <th>4</th>\n",
              "      <td>deep learning and language</td>\n",
              "      <td>19.36</td>\n",
              "      <td>2.52</td>\n",
              "    </tr>\n",
              "  </tbody>\n",
              "</table>\n",
              "</div>"
            ],
            "text/plain": [
              "                               text  start  duration\n",
              "0          Hello and welcome to the   7.68      3.16\n",
              "1  UCL and DeepMind lecture series.  10.84      3.20\n",
              "2      My name's Felix Hill and I'm  14.64      2.24\n",
              "3  going to be talking to you about  16.88      2.48\n",
              "4        deep learning and language  19.36      2.52"
            ]
          },
          "metadata": {
            "tags": []
          },
          "execution_count": 102
        }
      ]
    },
    {
      "cell_type": "code",
      "metadata": {
        "id": "zn9rHVEm_3E-",
        "colab": {
          "base_uri": "https://localhost:8080/",
          "height": 206
        },
        "outputId": "52a19c1a-0d2e-4e72-d37e-a46b142e19a3"
      },
      "source": [
        "# Attach time flag to phrases so we can extract them for sentence times\n",
        "df1['start'] = df1['start'].fillna(0)              # replace any NaNs with zeros\n",
        "df1['start'] = df1['start'].astype(int).sub(1)     # clip the decimals, subtract 1 sec\n",
        "df1['time'] = 't=' + df1['start'].astype(str)       # time with 't' prefix\n",
        "df1['time_text'] = df1['time'] + ' ' + df1['text'] # combine text and time\n",
        "df1 = df1.drop(columns=['start', 'duration'])\n",
        "df1.head()"
      ],
      "execution_count": 103,
      "outputs": [
        {
          "output_type": "display_data",
          "data": {
            "text/html": [
              "<style> pre { white-space: pre-wrap; } </style>"
            ],
            "text/plain": [
              "<IPython.core.display.HTML object>"
            ]
          },
          "metadata": {
            "tags": []
          }
        },
        {
          "output_type": "display_data",
          "data": {
            "text/html": [
              "<style> pre { white-space: pre-wrap; } </style>"
            ],
            "text/plain": [
              "<IPython.core.display.HTML object>"
            ]
          },
          "metadata": {
            "tags": []
          }
        },
        {
          "output_type": "display_data",
          "data": {
            "text/html": [
              "<style> pre { white-space: pre-wrap; } </style>"
            ],
            "text/plain": [
              "<IPython.core.display.HTML object>"
            ]
          },
          "metadata": {
            "tags": []
          }
        },
        {
          "output_type": "display_data",
          "data": {
            "text/html": [
              "<style> pre { white-space: pre-wrap; } </style>"
            ],
            "text/plain": [
              "<IPython.core.display.HTML object>"
            ]
          },
          "metadata": {
            "tags": []
          }
        },
        {
          "output_type": "execute_result",
          "data": {
            "text/html": [
              "<div>\n",
              "<style scoped>\n",
              "    .dataframe tbody tr th:only-of-type {\n",
              "        vertical-align: middle;\n",
              "    }\n",
              "\n",
              "    .dataframe tbody tr th {\n",
              "        vertical-align: top;\n",
              "    }\n",
              "\n",
              "    .dataframe thead th {\n",
              "        text-align: right;\n",
              "    }\n",
              "</style>\n",
              "<table border=\"1\" class=\"dataframe\">\n",
              "  <thead>\n",
              "    <tr style=\"text-align: right;\">\n",
              "      <th></th>\n",
              "      <th>text</th>\n",
              "      <th>time</th>\n",
              "      <th>time_text</th>\n",
              "    </tr>\n",
              "  </thead>\n",
              "  <tbody>\n",
              "    <tr>\n",
              "      <th>0</th>\n",
              "      <td>Hello and welcome to the</td>\n",
              "      <td>t=6</td>\n",
              "      <td>t=6 Hello and welcome to the</td>\n",
              "    </tr>\n",
              "    <tr>\n",
              "      <th>1</th>\n",
              "      <td>UCL and DeepMind lecture series.</td>\n",
              "      <td>t=9</td>\n",
              "      <td>t=9 UCL and DeepMind lecture series.</td>\n",
              "    </tr>\n",
              "    <tr>\n",
              "      <th>2</th>\n",
              "      <td>My name's Felix Hill and I'm</td>\n",
              "      <td>t=13</td>\n",
              "      <td>t=13 My name's Felix Hill and I'm</td>\n",
              "    </tr>\n",
              "    <tr>\n",
              "      <th>3</th>\n",
              "      <td>going to be talking to you about</td>\n",
              "      <td>t=15</td>\n",
              "      <td>t=15 going to be talking to you about</td>\n",
              "    </tr>\n",
              "    <tr>\n",
              "      <th>4</th>\n",
              "      <td>deep learning and language</td>\n",
              "      <td>t=18</td>\n",
              "      <td>t=18 deep learning and language</td>\n",
              "    </tr>\n",
              "  </tbody>\n",
              "</table>\n",
              "</div>"
            ],
            "text/plain": [
              "                               text  ...                              time_text\n",
              "0          Hello and welcome to the  ...           t=6 Hello and welcome to the\n",
              "1  UCL and DeepMind lecture series.  ...   t=9 UCL and DeepMind lecture series.\n",
              "2      My name's Felix Hill and I'm  ...      t=13 My name's Felix Hill and I'm\n",
              "3  going to be talking to you about  ...  t=15 going to be talking to you about\n",
              "4        deep learning and language  ...        t=18 deep learning and language\n",
              "\n",
              "[5 rows x 3 columns]"
            ]
          },
          "metadata": {
            "tags": []
          },
          "execution_count": 103
        }
      ]
    },
    {
      "cell_type": "code",
      "metadata": {
        "id": "AkJ7Azuk_NFa",
        "colab": {
          "base_uri": "https://localhost:8080/",
          "height": 17
        },
        "outputId": "fe42f6cd-d3a9-4ac7-bc13-48efa5655a3a"
      },
      "source": [
        "# Join all of the text strings\n",
        "orig_text = ' '.join(df1['text']).replace('\\n','').replace('\\r','') \\\n",
        "                                 .replace('\\t','').replace('  ','')\n",
        "time_text = ' '.join(df1['time_text']).replace('\\n','').replace('\\r','') \\\n",
        "                                      .replace('\\t','').replace('  ','')\n",
        "# Segment sentences with nltk\n",
        "sent_orig = sent_tokenize(orig_text)\n",
        "sent_time = sent_tokenize(time_text)\n",
        "\n",
        "# Append '\\n' to force spaCy to follow nltk sentence segmentation\n",
        "sent_orig_n = [s + '\\n' for s in sent_orig]\n",
        "\n",
        "# Join up the strings again to load into the nlp pipeline\n",
        "orig_text_n = ''.join(map(str, sent_orig_n))\n",
        "#print(orig_text_n)"
      ],
      "execution_count": 104,
      "outputs": [
        {
          "output_type": "display_data",
          "data": {
            "text/html": [
              "<style> pre { white-space: pre-wrap; } </style>"
            ],
            "text/plain": [
              "<IPython.core.display.HTML object>"
            ]
          },
          "metadata": {
            "tags": []
          }
        },
        {
          "output_type": "display_data",
          "data": {
            "text/html": [
              "<style> pre { white-space: pre-wrap; } </style>"
            ],
            "text/plain": [
              "<IPython.core.display.HTML object>"
            ]
          },
          "metadata": {
            "tags": []
          }
        },
        {
          "output_type": "display_data",
          "data": {
            "text/html": [
              "<style> pre { white-space: pre-wrap; } </style>"
            ],
            "text/plain": [
              "<IPython.core.display.HTML object>"
            ]
          },
          "metadata": {
            "tags": []
          }
        },
        {
          "output_type": "display_data",
          "data": {
            "text/html": [
              "<style> pre { white-space: pre-wrap; } </style>"
            ],
            "text/plain": [
              "<IPython.core.display.HTML object>"
            ]
          },
          "metadata": {
            "tags": []
          }
        }
      ]
    },
    {
      "cell_type": "code",
      "metadata": {
        "colab": {
          "base_uri": "https://localhost:8080/",
          "height": 206
        },
        "id": "jLhewwZWBaNF",
        "outputId": "cecdf5e9-d099-401b-f16d-821315361a7e"
      },
      "source": [
        "# Extract timestamps and associate to sentences\n",
        "df2_data = {'sentence': sent_orig, 'time_sent': sent_time}\n",
        "df2 = pd.DataFrame(df2_data)\n",
        "df2.insert(1, 'time', df2['time_sent'].str.extract('(t\\=\\d+)\\s', expand=True))\n",
        "df2['time'] = df2['time'].fillna(method='bfill')\n",
        "df2 = df2.drop(columns='time_sent')\n",
        "df2.head()"
      ],
      "execution_count": 105,
      "outputs": [
        {
          "output_type": "display_data",
          "data": {
            "text/html": [
              "<style> pre { white-space: pre-wrap; } </style>"
            ],
            "text/plain": [
              "<IPython.core.display.HTML object>"
            ]
          },
          "metadata": {
            "tags": []
          }
        },
        {
          "output_type": "display_data",
          "data": {
            "text/html": [
              "<style> pre { white-space: pre-wrap; } </style>"
            ],
            "text/plain": [
              "<IPython.core.display.HTML object>"
            ]
          },
          "metadata": {
            "tags": []
          }
        },
        {
          "output_type": "display_data",
          "data": {
            "text/html": [
              "<style> pre { white-space: pre-wrap; } </style>"
            ],
            "text/plain": [
              "<IPython.core.display.HTML object>"
            ]
          },
          "metadata": {
            "tags": []
          }
        },
        {
          "output_type": "display_data",
          "data": {
            "text/html": [
              "<style> pre { white-space: pre-wrap; } </style>"
            ],
            "text/plain": [
              "<IPython.core.display.HTML object>"
            ]
          },
          "metadata": {
            "tags": []
          }
        },
        {
          "output_type": "execute_result",
          "data": {
            "text/html": [
              "<div>\n",
              "<style scoped>\n",
              "    .dataframe tbody tr th:only-of-type {\n",
              "        vertical-align: middle;\n",
              "    }\n",
              "\n",
              "    .dataframe tbody tr th {\n",
              "        vertical-align: top;\n",
              "    }\n",
              "\n",
              "    .dataframe thead th {\n",
              "        text-align: right;\n",
              "    }\n",
              "</style>\n",
              "<table border=\"1\" class=\"dataframe\">\n",
              "  <thead>\n",
              "    <tr style=\"text-align: right;\">\n",
              "      <th></th>\n",
              "      <th>sentence</th>\n",
              "      <th>time</th>\n",
              "    </tr>\n",
              "  </thead>\n",
              "  <tbody>\n",
              "    <tr>\n",
              "      <th>0</th>\n",
              "      <td>Hello and welcome to the UCL and DeepMind lect...</td>\n",
              "      <td>t=6</td>\n",
              "    </tr>\n",
              "    <tr>\n",
              "      <th>1</th>\n",
              "      <td>My name's Felix Hill and I'm going to be talki...</td>\n",
              "      <td>t=13</td>\n",
              "    </tr>\n",
              "    <tr>\n",
              "      <th>2</th>\n",
              "      <td>So here's an overview of the structure of toda...</td>\n",
              "      <td>t=24</td>\n",
              "    </tr>\n",
              "    <tr>\n",
              "      <th>3</th>\n",
              "      <td>It's going to be divided into four sections.</td>\n",
              "      <td>t=27</td>\n",
              "    </tr>\n",
              "    <tr>\n",
              "      <th>4</th>\n",
              "      <td>So in the first section I'll talk a little bit...</td>\n",
              "      <td>t=31</td>\n",
              "    </tr>\n",
              "  </tbody>\n",
              "</table>\n",
              "</div>"
            ],
            "text/plain": [
              "                                            sentence  time\n",
              "0  Hello and welcome to the UCL and DeepMind lect...   t=6\n",
              "1  My name's Felix Hill and I'm going to be talki...  t=13\n",
              "2  So here's an overview of the structure of toda...  t=24\n",
              "3       It's going to be divided into four sections.  t=27\n",
              "4  So in the first section I'll talk a little bit...  t=31"
            ]
          },
          "metadata": {
            "tags": []
          },
          "execution_count": 105
        }
      ]
    },
    {
      "cell_type": "code",
      "metadata": {
        "colab": {
          "base_uri": "https://localhost:8080/",
          "height": 17
        },
        "id": "zBGUPEJLSEGo",
        "outputId": "4bade98d-1a30-4c0a-8782-8d2c22641562"
      },
      "source": [
        "# Load the pipeline\n",
        "nlp = spacy.load(\"en_core_web_sm\")\n",
        "\n",
        "# Force parser to segement sentences the same as nltk from earlier \n",
        "@Language.component(\"set_custom_boundaries\")\n",
        "def set_custom_boundaries(doc):\n",
        "  for token in doc[:-1]:\n",
        "    if token.text == \"\\n\":\n",
        "      doc[token.i + 1].is_sent_start = True\n",
        "    else:\n",
        "      doc[token.i + 1].is_sent_start = False\n",
        "  return doc\n",
        "\n",
        "algo = \"textrank\" #['textrank', 'positionrank', 'biasedtextrank']\n",
        "nlp.add_pipe(\"set_custom_boundaries\", before=\"parser\")\n",
        "nlp.add_pipe(algo, last=True)\n",
        "doc = nlp(orig_text_n)\n",
        "\n",
        "sentences = [sent.text for sent in doc.sents]\n",
        "num_sents = len(sentences)\n",
        "assert num_sents == len(df2)\n",
        "#print(num_sents)\n",
        "#print(sentences)"
      ],
      "execution_count": 106,
      "outputs": [
        {
          "output_type": "display_data",
          "data": {
            "text/html": [
              "<style> pre { white-space: pre-wrap; } </style>"
            ],
            "text/plain": [
              "<IPython.core.display.HTML object>"
            ]
          },
          "metadata": {
            "tags": []
          }
        },
        {
          "output_type": "display_data",
          "data": {
            "text/html": [
              "<style> pre { white-space: pre-wrap; } </style>"
            ],
            "text/plain": [
              "<IPython.core.display.HTML object>"
            ]
          },
          "metadata": {
            "tags": []
          }
        },
        {
          "output_type": "display_data",
          "data": {
            "text/html": [
              "<style> pre { white-space: pre-wrap; } </style>"
            ],
            "text/plain": [
              "<IPython.core.display.HTML object>"
            ]
          },
          "metadata": {
            "tags": []
          }
        },
        {
          "output_type": "display_data",
          "data": {
            "text/html": [
              "<style> pre { white-space: pre-wrap; } </style>"
            ],
            "text/plain": [
              "<IPython.core.display.HTML object>"
            ]
          },
          "metadata": {
            "tags": []
          }
        }
      ]
    },
    {
      "cell_type": "code",
      "metadata": {
        "id": "8m-FsrUTWX3F",
        "colab": {
          "base_uri": "https://localhost:8080/",
          "height": 17
        },
        "outputId": "88ff8c0f-84e6-4298-e75d-6296122be0e8"
      },
      "source": [
        "def count_words(df, column):\n",
        "  column = '%s' % column\n",
        "  num_words = sum([len(x.split()) for x in df[column].tolist()])\n",
        "  return num_words\n",
        "\n",
        "def count_sentences(df):\n",
        "  num_sentences = len(df)\n",
        "  return num_sentences\n",
        "\n",
        "#count_words(df2, 'sentence')\n",
        "#count_sentences(df2)"
      ],
      "execution_count": 107,
      "outputs": [
        {
          "output_type": "display_data",
          "data": {
            "text/html": [
              "<style> pre { white-space: pre-wrap; } </style>"
            ],
            "text/plain": [
              "<IPython.core.display.HTML object>"
            ]
          },
          "metadata": {
            "tags": []
          }
        },
        {
          "output_type": "display_data",
          "data": {
            "text/html": [
              "<style> pre { white-space: pre-wrap; } </style>"
            ],
            "text/plain": [
              "<IPython.core.display.HTML object>"
            ]
          },
          "metadata": {
            "tags": []
          }
        },
        {
          "output_type": "display_data",
          "data": {
            "text/html": [
              "<style> pre { white-space: pre-wrap; } </style>"
            ],
            "text/plain": [
              "<IPython.core.display.HTML object>"
            ]
          },
          "metadata": {
            "tags": []
          }
        },
        {
          "output_type": "display_data",
          "data": {
            "text/html": [
              "<style> pre { white-space: pre-wrap; } </style>"
            ],
            "text/plain": [
              "<IPython.core.display.HTML object>"
            ]
          },
          "metadata": {
            "tags": []
          }
        }
      ]
    },
    {
      "cell_type": "code",
      "metadata": {
        "id": "fFQNX9dXfrZj",
        "colab": {
          "base_uri": "https://localhost:8080/",
          "height": 53
        },
        "outputId": "43a41bf4-31c6-40cb-fdca-b6d14d87b6bc"
      },
      "source": [
        "# Number of words in the original transcript\n",
        "orig_wc = count_words(df2, 'sentence')\n",
        "print ('Transcript word count:', orig_wc)\n",
        "\n",
        "# Number of sentences in the original transcript\n",
        "orig_sc = count_sentences(df2)\n",
        "print ('Transcript sentence count:', orig_sc)"
      ],
      "execution_count": 108,
      "outputs": [
        {
          "output_type": "display_data",
          "data": {
            "text/html": [
              "<style> pre { white-space: pre-wrap; } </style>"
            ],
            "text/plain": [
              "<IPython.core.display.HTML object>"
            ]
          },
          "metadata": {
            "tags": []
          }
        },
        {
          "output_type": "display_data",
          "data": {
            "text/html": [
              "<style> pre { white-space: pre-wrap; } </style>"
            ],
            "text/plain": [
              "<IPython.core.display.HTML object>"
            ]
          },
          "metadata": {
            "tags": []
          }
        },
        {
          "output_type": "display_data",
          "data": {
            "text/html": [
              "<style> pre { white-space: pre-wrap; } </style>"
            ],
            "text/plain": [
              "<IPython.core.display.HTML object>"
            ]
          },
          "metadata": {
            "tags": []
          }
        },
        {
          "output_type": "display_data",
          "data": {
            "text/html": [
              "<style> pre { white-space: pre-wrap; } </style>"
            ],
            "text/plain": [
              "<IPython.core.display.HTML object>"
            ]
          },
          "metadata": {
            "tags": []
          }
        },
        {
          "output_type": "stream",
          "text": [
            "Transcript word count: 14894\n",
            "Transcript sentence count: 480\n"
          ],
          "name": "stdout"
        }
      ]
    },
    {
      "cell_type": "code",
      "metadata": {
        "id": "PQaTdCwVmQlP",
        "colab": {
          "base_uri": "https://localhost:8080/",
          "height": 17
        },
        "outputId": "19e7c346-fae4-4f01-912a-4e6eb8523a61"
      },
      "source": [
        "# Rank the sentences for the summary\n",
        "target = 30         # target % num sentences of the original\n",
        "phrase_multiple = 5 # num phrases per num sentences to consider in the ranking \n",
        "lim_sents = ceil(orig_sc * target/100)\n",
        "lim_phrases = lim_sents * phrase_multiple\n",
        "\n",
        "summ_gen = doc._.textrank.summary(limit_phrases=lim_phrases, \n",
        "                                  limit_sentences=lim_sents, \n",
        "                                  preserve_order=True)\n",
        "\n",
        "# Generate the summary outputs\n",
        "sents = []\n",
        "starts = []\n",
        "ends = []\n",
        "for sent in summ_gen:\n",
        "    sents.append(sent.text)\n",
        "    starts.append(sent.start)\n",
        "    ends.append(sent.end)\n",
        "    #print(sent)\n",
        "\n",
        "# Top-ranked words/phrases\n",
        "keywords = ''\n",
        "for phrase in doc._.phrases[:20]:\n",
        "    keywords += (phrase.text + ', ')\n",
        "keywords = keywords[:-2] # drop last comma and space\n",
        "#print(keywords)"
      ],
      "execution_count": 109,
      "outputs": [
        {
          "output_type": "display_data",
          "data": {
            "text/html": [
              "<style> pre { white-space: pre-wrap; } </style>"
            ],
            "text/plain": [
              "<IPython.core.display.HTML object>"
            ]
          },
          "metadata": {
            "tags": []
          }
        },
        {
          "output_type": "display_data",
          "data": {
            "text/html": [
              "<style> pre { white-space: pre-wrap; } </style>"
            ],
            "text/plain": [
              "<IPython.core.display.HTML object>"
            ]
          },
          "metadata": {
            "tags": []
          }
        },
        {
          "output_type": "display_data",
          "data": {
            "text/html": [
              "<style> pre { white-space: pre-wrap; } </style>"
            ],
            "text/plain": [
              "<IPython.core.display.HTML object>"
            ]
          },
          "metadata": {
            "tags": []
          }
        },
        {
          "output_type": "display_data",
          "data": {
            "text/html": [
              "<style> pre { white-space: pre-wrap; } </style>"
            ],
            "text/plain": [
              "<IPython.core.display.HTML object>"
            ]
          },
          "metadata": {
            "tags": []
          }
        }
      ]
    },
    {
      "cell_type": "code",
      "metadata": {
        "colab": {
          "base_uri": "https://localhost:8080/",
          "height": 206
        },
        "id": "7Bv7tOB2jJ-U",
        "outputId": "26a1a002-68dd-433b-83a0-f2e8c9a29b4c"
      },
      "source": [
        "# Put the summary in a new dataframe and merge with df2\n",
        "df3_data = {'sentence': sents, 'start': starts, 'end': ends}\n",
        "df3 = pd.DataFrame(df3_data)\n",
        "df3['sentence'] = df3['sentence'].str[:-1] # Pop off the '\\n' characters\n",
        "df3 = df3.merge(df2, left_on='sentence',right_on='sentence', how='left')\n",
        "\n",
        "# Uppercase the first word of each sentence\n",
        "df3['sentence'] = [(s[:1].upper() + s[1:]) for s in df3['sentence']]\n",
        "\n",
        "df3.head()\n",
        "#list(df3['sentence'])"
      ],
      "execution_count": 110,
      "outputs": [
        {
          "output_type": "display_data",
          "data": {
            "text/html": [
              "<style> pre { white-space: pre-wrap; } </style>"
            ],
            "text/plain": [
              "<IPython.core.display.HTML object>"
            ]
          },
          "metadata": {
            "tags": []
          }
        },
        {
          "output_type": "display_data",
          "data": {
            "text/html": [
              "<style> pre { white-space: pre-wrap; } </style>"
            ],
            "text/plain": [
              "<IPython.core.display.HTML object>"
            ]
          },
          "metadata": {
            "tags": []
          }
        },
        {
          "output_type": "display_data",
          "data": {
            "text/html": [
              "<style> pre { white-space: pre-wrap; } </style>"
            ],
            "text/plain": [
              "<IPython.core.display.HTML object>"
            ]
          },
          "metadata": {
            "tags": []
          }
        },
        {
          "output_type": "display_data",
          "data": {
            "text/html": [
              "<style> pre { white-space: pre-wrap; } </style>"
            ],
            "text/plain": [
              "<IPython.core.display.HTML object>"
            ]
          },
          "metadata": {
            "tags": []
          }
        },
        {
          "output_type": "execute_result",
          "data": {
            "text/html": [
              "<div>\n",
              "<style scoped>\n",
              "    .dataframe tbody tr th:only-of-type {\n",
              "        vertical-align: middle;\n",
              "    }\n",
              "\n",
              "    .dataframe tbody tr th {\n",
              "        vertical-align: top;\n",
              "    }\n",
              "\n",
              "    .dataframe thead th {\n",
              "        text-align: right;\n",
              "    }\n",
              "</style>\n",
              "<table border=\"1\" class=\"dataframe\">\n",
              "  <thead>\n",
              "    <tr style=\"text-align: right;\">\n",
              "      <th></th>\n",
              "      <th>sentence</th>\n",
              "      <th>start</th>\n",
              "      <th>end</th>\n",
              "      <th>time</th>\n",
              "    </tr>\n",
              "  </thead>\n",
              "  <tbody>\n",
              "    <tr>\n",
              "      <th>0</th>\n",
              "      <td>My name's Felix Hill and I'm going to be talki...</td>\n",
              "      <td>12</td>\n",
              "      <td>34</td>\n",
              "      <td>t=13</td>\n",
              "    </tr>\n",
              "    <tr>\n",
              "      <th>1</th>\n",
              "      <td>So in the first section I'll talk a little bit...</td>\n",
              "      <td>59</td>\n",
              "      <td>123</td>\n",
              "      <td>t=31</td>\n",
              "    </tr>\n",
              "    <tr>\n",
              "      <th>2</th>\n",
              "      <td>In the second section I'll focus in on one par...</td>\n",
              "      <td>123</td>\n",
              "      <td>158</td>\n",
              "      <td>t=57</td>\n",
              "    </tr>\n",
              "    <tr>\n",
              "      <th>3</th>\n",
              "      <td>And that model is the transformer which was re...</td>\n",
              "      <td>158</td>\n",
              "      <td>225</td>\n",
              "      <td>t=67</td>\n",
              "    </tr>\n",
              "    <tr>\n",
              "      <th>4</th>\n",
              "      <td>And then in the final section, we'll take a bi...</td>\n",
              "      <td>225</td>\n",
              "      <td>295</td>\n",
              "      <td>t=95</td>\n",
              "    </tr>\n",
              "  </tbody>\n",
              "</table>\n",
              "</div>"
            ],
            "text/plain": [
              "                                            sentence  start  end  time\n",
              "0  My name's Felix Hill and I'm going to be talki...     12   34  t=13\n",
              "1  So in the first section I'll talk a little bit...     59  123  t=31\n",
              "2  In the second section I'll focus in on one par...    123  158  t=57\n",
              "3  And that model is the transformer which was re...    158  225  t=67\n",
              "4  And then in the final section, we'll take a bi...    225  295  t=95"
            ]
          },
          "metadata": {
            "tags": []
          },
          "execution_count": 110
        }
      ]
    },
    {
      "cell_type": "code",
      "metadata": {
        "id": "uTspKFEaziRo",
        "colab": {
          "base_uri": "https://localhost:8080/",
          "height": 108
        },
        "outputId": "6ba0a46f-22ca-4c81-b30c-049efe1701e2"
      },
      "source": [
        "# Get word and sentence counts of summary and compare to original\n",
        "summ_wc = count_words(df3, 'sentence')\n",
        "summ_sc = count_sentences(df3)\n",
        "reduction_wc = int(round((1-summ_wc/orig_wc)*100,0))\n",
        "reduction_sc = int(round((1-summ_sc/orig_sc)*100,0))\n",
        "\n",
        "print(\"Summary vs. original word count: \", summ_wc, \"/\", orig_wc)\n",
        "print(\"Percentage reduction of words: \", reduction_wc)\n",
        "print(\"\\nSummary vs. original sentence count: \", summ_sc, \"/\", orig_sc)\n",
        "print(\"Percentage reduction of sentences: \", reduction_sc)"
      ],
      "execution_count": 111,
      "outputs": [
        {
          "output_type": "display_data",
          "data": {
            "text/html": [
              "<style> pre { white-space: pre-wrap; } </style>"
            ],
            "text/plain": [
              "<IPython.core.display.HTML object>"
            ]
          },
          "metadata": {
            "tags": []
          }
        },
        {
          "output_type": "display_data",
          "data": {
            "text/html": [
              "<style> pre { white-space: pre-wrap; } </style>"
            ],
            "text/plain": [
              "<IPython.core.display.HTML object>"
            ]
          },
          "metadata": {
            "tags": []
          }
        },
        {
          "output_type": "display_data",
          "data": {
            "text/html": [
              "<style> pre { white-space: pre-wrap; } </style>"
            ],
            "text/plain": [
              "<IPython.core.display.HTML object>"
            ]
          },
          "metadata": {
            "tags": []
          }
        },
        {
          "output_type": "display_data",
          "data": {
            "text/html": [
              "<style> pre { white-space: pre-wrap; } </style>"
            ],
            "text/plain": [
              "<IPython.core.display.HTML object>"
            ]
          },
          "metadata": {
            "tags": []
          }
        },
        {
          "output_type": "stream",
          "text": [
            "Summary vs. original word count:  6434 / 14894\n",
            "Percentage reduction of words:  57\n",
            "\n",
            "Summary vs. original sentence count:  144 / 480\n",
            "Percentage reduction of sentences:  70\n"
          ],
          "name": "stdout"
        }
      ]
    },
    {
      "cell_type": "code",
      "metadata": {
        "id": "OlAiyGEVKXQN",
        "colab": {
          "base_uri": "https://localhost:8080/",
          "height": 17
        },
        "outputId": "73a38348-bd1e-4afa-df64-f74f19ef125e"
      },
      "source": [
        "# Get the title of the video\n",
        "import requests\n",
        "from bs4 import BeautifulSoup\n",
        "  \n",
        "url = 'https://youtu.be/' + video_id\n",
        "reqs = requests.get(url)\n",
        "soup = BeautifulSoup(reqs.text, 'html.parser')\n",
        "\n",
        "for title in soup.find_all('title'):\n",
        "    video_title = title.get_text()\n",
        "    #print(video_title)"
      ],
      "execution_count": 112,
      "outputs": [
        {
          "output_type": "display_data",
          "data": {
            "text/html": [
              "<style> pre { white-space: pre-wrap; } </style>"
            ],
            "text/plain": [
              "<IPython.core.display.HTML object>"
            ]
          },
          "metadata": {
            "tags": []
          }
        },
        {
          "output_type": "display_data",
          "data": {
            "text/html": [
              "<style> pre { white-space: pre-wrap; } </style>"
            ],
            "text/plain": [
              "<IPython.core.display.HTML object>"
            ]
          },
          "metadata": {
            "tags": []
          }
        },
        {
          "output_type": "display_data",
          "data": {
            "text/html": [
              "<style> pre { white-space: pre-wrap; } </style>"
            ],
            "text/plain": [
              "<IPython.core.display.HTML object>"
            ]
          },
          "metadata": {
            "tags": []
          }
        },
        {
          "output_type": "display_data",
          "data": {
            "text/html": [
              "<style> pre { white-space: pre-wrap; } </style>"
            ],
            "text/plain": [
              "<IPython.core.display.HTML object>"
            ]
          },
          "metadata": {
            "tags": []
          }
        }
      ]
    },
    {
      "cell_type": "code",
      "metadata": {
        "colab": {
          "base_uri": "https://localhost:8080/",
          "height": 17
        },
        "id": "UL-ZwlO7VpzI",
        "outputId": "7a18e096-f470-49b1-bce8-07203cf75728"
      },
      "source": [
        "# Generate an abstract from the summary with LED model finetuned on PubMed\n",
        "summ_out = \"\"\n",
        "for row in df3.itertuples(index=False):\n",
        "    summ_out += row.sentence\n",
        "\n",
        "tokenizer = LEDTokenizer.from_pretrained(\"patrickvonplaten/led-large-16384-pubmed\")\n",
        "\n",
        "input_ids = tokenizer(summ_out, return_tensors=\"pt\").input_ids.to(device)\n",
        "global_attention_mask = torch.zeros_like(input_ids)\n",
        "\n",
        "# Set global_attention_mask on first token\n",
        "global_attention_mask[:, 0] = 1\n",
        "\n",
        "model = LEDForConditionalGeneration.from_pretrained(\n",
        "    \"patrickvonplaten/led-large-16384-pubmed\", \n",
        "    return_dict_in_generate=True).to(device)\n",
        "\n",
        "sequences = model \\\n",
        "            .generate(input_ids, global_attention_mask=global_attention_mask) \\\n",
        "            .sequences.to(device)\n",
        "\n",
        "del model\n",
        "gc.collect()\n",
        "torch.cuda.empty_cache()\n",
        "\n",
        "decoded = tokenizer.batch_decode(sequences, skip_special_tokens=True)\n",
        "\n",
        "# Clean up the decoded output\n",
        "# Eliminate leading/trailing spaces\n",
        "decoded = ' '.join(decoded).replace('\\n ','').strip()\n",
        "\n",
        "# Segment sentences with nltk\n",
        "sent_abs = sent_tokenize(decoded)\n",
        "\n",
        "# Uppercase the start of sentences\n",
        "sent_abs = [(s[:1].upper() + s[1:]) for s in sent_abs] \n",
        "abstract = ' '.join(sent_abs)\n",
        "\n",
        "# Fix casing like 'bERT' and 'deepMind'\n",
        "regex = re.findall(\"([a-z]+[A-Z])\", abstract) \n",
        "for r in regex:\n",
        "  up = r[:1].upper() + r[1:]\n",
        "  abstract = re.sub(r, up, abstract)\n",
        "#print(abstract)"
      ],
      "execution_count": 113,
      "outputs": [
        {
          "output_type": "display_data",
          "data": {
            "text/html": [
              "<style> pre { white-space: pre-wrap; } </style>"
            ],
            "text/plain": [
              "<IPython.core.display.HTML object>"
            ]
          },
          "metadata": {
            "tags": []
          }
        },
        {
          "output_type": "display_data",
          "data": {
            "text/html": [
              "<style> pre { white-space: pre-wrap; } </style>"
            ],
            "text/plain": [
              "<IPython.core.display.HTML object>"
            ]
          },
          "metadata": {
            "tags": []
          }
        },
        {
          "output_type": "display_data",
          "data": {
            "text/html": [
              "<style> pre { white-space: pre-wrap; } </style>"
            ],
            "text/plain": [
              "<IPython.core.display.HTML object>"
            ]
          },
          "metadata": {
            "tags": []
          }
        },
        {
          "output_type": "display_data",
          "data": {
            "text/html": [
              "<style> pre { white-space: pre-wrap; } </style>"
            ],
            "text/plain": [
              "<IPython.core.display.HTML object>"
            ]
          },
          "metadata": {
            "tags": []
          }
        }
      ]
    },
    {
      "cell_type": "code",
      "metadata": {
        "colab": {
          "base_uri": "https://localhost:8080/",
          "height": 17
        },
        "id": "h8tFYhxXmq80",
        "outputId": "c386763b-012f-4045-e8d4-d2557965bb31"
      },
      "source": [
        "# Output the summary to a text file\n",
        "machine_filename = 'summary_%s_%s_%s.txt' % (algo, summ_sc, summ_wc)\n",
        "with open((machine_filename), 'w') as f:\n",
        "    f.write(summ_out)"
      ],
      "execution_count": 114,
      "outputs": [
        {
          "output_type": "display_data",
          "data": {
            "text/html": [
              "<style> pre { white-space: pre-wrap; } </style>"
            ],
            "text/plain": [
              "<IPython.core.display.HTML object>"
            ]
          },
          "metadata": {
            "tags": []
          }
        },
        {
          "output_type": "display_data",
          "data": {
            "text/html": [
              "<style> pre { white-space: pre-wrap; } </style>"
            ],
            "text/plain": [
              "<IPython.core.display.HTML object>"
            ]
          },
          "metadata": {
            "tags": []
          }
        },
        {
          "output_type": "display_data",
          "data": {
            "text/html": [
              "<style> pre { white-space: pre-wrap; } </style>"
            ],
            "text/plain": [
              "<IPython.core.display.HTML object>"
            ]
          },
          "metadata": {
            "tags": []
          }
        },
        {
          "output_type": "display_data",
          "data": {
            "text/html": [
              "<style> pre { white-space: pre-wrap; } </style>"
            ],
            "text/plain": [
              "<IPython.core.display.HTML object>"
            ]
          },
          "metadata": {
            "tags": []
          }
        }
      ]
    },
    {
      "cell_type": "code",
      "metadata": {
        "colab": {
          "base_uri": "https://localhost:8080/",
          "height": 17
        },
        "id": "AnCdam1tSj3A",
        "outputId": "5b9d1ca0-191b-4f7b-a6be-21aefcc8b79e"
      },
      "source": [
        "# Build the summary output with html tags\n",
        "summ_html = \"<p>\"\n",
        "prior_sent_end = 0  # keep track of the end of the prior sentence\n",
        "\n",
        "for row in df3.itertuples(index=False):\n",
        "    # Group in the same paragraph if within 100 chars of the end of the prior sentence\n",
        "    if row.start > (prior_sent_end + 100):\n",
        "      summ_html += (('</p><p><a href=\"%s\">' % ('#' + row.time)) + row.sentence + '</a> ')\n",
        "    else:\n",
        "      summ_html += (('<a href=\"%s\">' % ('#' + row.time)) + row.sentence + '</a> ')\n",
        "\n",
        "    # Update the prior sentence end to the current sentence end\n",
        "    prior_sent_end = row.end"
      ],
      "execution_count": 115,
      "outputs": [
        {
          "output_type": "display_data",
          "data": {
            "text/html": [
              "<style> pre { white-space: pre-wrap; } </style>"
            ],
            "text/plain": [
              "<IPython.core.display.HTML object>"
            ]
          },
          "metadata": {
            "tags": []
          }
        },
        {
          "output_type": "display_data",
          "data": {
            "text/html": [
              "<style> pre { white-space: pre-wrap; } </style>"
            ],
            "text/plain": [
              "<IPython.core.display.HTML object>"
            ]
          },
          "metadata": {
            "tags": []
          }
        },
        {
          "output_type": "display_data",
          "data": {
            "text/html": [
              "<style> pre { white-space: pre-wrap; } </style>"
            ],
            "text/plain": [
              "<IPython.core.display.HTML object>"
            ]
          },
          "metadata": {
            "tags": []
          }
        },
        {
          "output_type": "display_data",
          "data": {
            "text/html": [
              "<style> pre { white-space: pre-wrap; } </style>"
            ],
            "text/plain": [
              "<IPython.core.display.HTML object>"
            ]
          },
          "metadata": {
            "tags": []
          }
        }
      ]
    },
    {
      "cell_type": "code",
      "metadata": {
        "id": "OzTiUFd3zclG",
        "colab": {
          "base_uri": "https://localhost:8080/",
          "height": 17
        },
        "outputId": "03e03df9-29c3-4280-997e-047b9e5668b9"
      },
      "source": [
        "# Build the full transcript output with html tags\n",
        "full_html = \"\"\n",
        "for row in df2.itertuples(index=False):\n",
        "    full_html += ('<p id=\"%s\"><a href=\"%s\" target=\"_blank\">%s</a></p>' \n",
        "                  % (row.time, (url + '?' + row.time), row.sentence))"
      ],
      "execution_count": 116,
      "outputs": [
        {
          "output_type": "display_data",
          "data": {
            "text/html": [
              "<style> pre { white-space: pre-wrap; } </style>"
            ],
            "text/plain": [
              "<IPython.core.display.HTML object>"
            ]
          },
          "metadata": {
            "tags": []
          }
        },
        {
          "output_type": "display_data",
          "data": {
            "text/html": [
              "<style> pre { white-space: pre-wrap; } </style>"
            ],
            "text/plain": [
              "<IPython.core.display.HTML object>"
            ]
          },
          "metadata": {
            "tags": []
          }
        },
        {
          "output_type": "display_data",
          "data": {
            "text/html": [
              "<style> pre { white-space: pre-wrap; } </style>"
            ],
            "text/plain": [
              "<IPython.core.display.HTML object>"
            ]
          },
          "metadata": {
            "tags": []
          }
        },
        {
          "output_type": "display_data",
          "data": {
            "text/html": [
              "<style> pre { white-space: pre-wrap; } </style>"
            ],
            "text/plain": [
              "<IPython.core.display.HTML object>"
            ]
          },
          "metadata": {
            "tags": []
          }
        }
      ]
    },
    {
      "cell_type": "code",
      "metadata": {
        "colab": {
          "base_uri": "https://localhost:8080/",
          "height": 17
        },
        "id": "eOloD9RRMNPg",
        "outputId": "24508ccd-038d-452f-c0fc-3a800f303b44"
      },
      "source": [
        "# User information for the html file\n",
        "overview = '''\n",
        "<p>This file presents the results of automatic summarization of an online \n",
        "lecture video titled: <i><a href='%s' target=\"_blank\">%s</a></i>. The abstract \n",
        "is generated using <b>LED</b>, or Longformer-Encoder-Decoder, a \n",
        "state-of-the-art Transformer-based language model. This implementation uses a   \n",
        "pre-trained model, fine-tuned on <b>PubMed</b>, a long-range summarization   \n",
        "dataset. The top-ranked words/phases and sentences are extracted from the   \n",
        "original transcript of the video to produce a summary using <b>%s</b>, an  \n",
        "unsupervised graph-based algorithm. The sentences for the summary are returned  \n",
        "in the order of original occurrence in the transcript (i.e., not ranked order).  \n",
        "Words and sentences in the summary are reduced by %s%% and %s%%, respectively, \n",
        "compared with the  original transcript. Sentences are grouped into paragraphs  \n",
        "based on their positional locations. Long paragraphs indicate several sentences  \n",
        "in close proximity with minimal pruning between them. Short paragraphs and \n",
        "orphaned sentences suggest that more context may be needed. The final section is \n",
        "the full extracted transcript, line by line. Sentences in the 'Summary' section \n",
        "are hyperlinked to the 'Full Transcript' section. Sentences in the 'Full \n",
        "Transcript' section are hyperlinked to the video at the approximate time of \n",
        "utterance.</p> ''' % (url, video_title, algo, reduction_wc, reduction_sc)"
      ],
      "execution_count": 117,
      "outputs": [
        {
          "output_type": "display_data",
          "data": {
            "text/html": [
              "<style> pre { white-space: pre-wrap; } </style>"
            ],
            "text/plain": [
              "<IPython.core.display.HTML object>"
            ]
          },
          "metadata": {
            "tags": []
          }
        },
        {
          "output_type": "display_data",
          "data": {
            "text/html": [
              "<style> pre { white-space: pre-wrap; } </style>"
            ],
            "text/plain": [
              "<IPython.core.display.HTML object>"
            ]
          },
          "metadata": {
            "tags": []
          }
        },
        {
          "output_type": "display_data",
          "data": {
            "text/html": [
              "<style> pre { white-space: pre-wrap; } </style>"
            ],
            "text/plain": [
              "<IPython.core.display.HTML object>"
            ]
          },
          "metadata": {
            "tags": []
          }
        },
        {
          "output_type": "display_data",
          "data": {
            "text/html": [
              "<style> pre { white-space: pre-wrap; } </style>"
            ],
            "text/plain": [
              "<IPython.core.display.HTML object>"
            ]
          },
          "metadata": {
            "tags": []
          }
        }
      ]
    },
    {
      "cell_type": "code",
      "metadata": {
        "id": "DBILGD3d_P_i",
        "colab": {
          "base_uri": "https://localhost:8080/",
          "height": 17
        },
        "outputId": "49609b1c-ea35-4298-b3c8-4d7751741dd7"
      },
      "source": [
        "# Combine all sections into an HTML file\n",
        "html_summary = '''\n",
        "<html>\n",
        "  <head>\n",
        "    <meta charset=\"UTF-8\">\n",
        "    <style>\n",
        "      body {max-width: 960px; margin: 20px auto;}\n",
        "      a:link, a:visited {text-decoration: none; color: #000000;}\n",
        "      :target {background-color: yellow;}\n",
        "    </style>\n",
        "  </head> \n",
        "  <body>\n",
        "    <h1>Overview</h1>\n",
        "    %s\n",
        "    <h1>Abstract</h1>\n",
        "    <p>%s</p>\n",
        "    <h1>Keywords/phrases</h1>\n",
        "    <p>%s</p>\n",
        "    <h1>Summary</h1>\n",
        "    %s\n",
        "    <h1>Full Transcript</h1>\n",
        "    %s\n",
        "  </body>\n",
        "</html>\n",
        "'''\n",
        " \n",
        "with open('summary.html', 'w') as f:\n",
        "  f.write(html_summary % (overview, abstract, keywords, summ_html, full_html))"
      ],
      "execution_count": 118,
      "outputs": [
        {
          "output_type": "display_data",
          "data": {
            "text/html": [
              "<style> pre { white-space: pre-wrap; } </style>"
            ],
            "text/plain": [
              "<IPython.core.display.HTML object>"
            ]
          },
          "metadata": {
            "tags": []
          }
        },
        {
          "output_type": "display_data",
          "data": {
            "text/html": [
              "<style> pre { white-space: pre-wrap; } </style>"
            ],
            "text/plain": [
              "<IPython.core.display.HTML object>"
            ]
          },
          "metadata": {
            "tags": []
          }
        },
        {
          "output_type": "display_data",
          "data": {
            "text/html": [
              "<style> pre { white-space: pre-wrap; } </style>"
            ],
            "text/plain": [
              "<IPython.core.display.HTML object>"
            ]
          },
          "metadata": {
            "tags": []
          }
        },
        {
          "output_type": "display_data",
          "data": {
            "text/html": [
              "<style> pre { white-space: pre-wrap; } </style>"
            ],
            "text/plain": [
              "<IPython.core.display.HTML object>"
            ]
          },
          "metadata": {
            "tags": []
          }
        }
      ]
    },
    {
      "cell_type": "code",
      "metadata": {
        "colab": {
          "base_uri": "https://localhost:8080/",
          "height": 53
        },
        "id": "KSfCjgg0_xXb",
        "outputId": "d048fd0a-f619-423a-859a-0346eabaea71"
      },
      "source": [
        "# Open the human summary\n",
        "human_url = 'https://mkreager.github.io/nlp-summarization/human.txt'\n",
        "\n",
        "with urllib.request.urlopen(human_url) as response:\n",
        "   human_file = response.read().decode('utf-8')\n",
        "\n",
        "human_wc = len(human_file.split())\n",
        "human_sc = len(sent_tokenize(human_file))\n",
        "assert human_sc == summ_sc\n",
        "\n",
        "#print(human_file)\n",
        "print('Human summary word count:', human_wc)\n",
        "print('Human summary sentence:', human_sc)"
      ],
      "execution_count": 119,
      "outputs": [
        {
          "output_type": "display_data",
          "data": {
            "text/html": [
              "<style> pre { white-space: pre-wrap; } </style>"
            ],
            "text/plain": [
              "<IPython.core.display.HTML object>"
            ]
          },
          "metadata": {
            "tags": []
          }
        },
        {
          "output_type": "display_data",
          "data": {
            "text/html": [
              "<style> pre { white-space: pre-wrap; } </style>"
            ],
            "text/plain": [
              "<IPython.core.display.HTML object>"
            ]
          },
          "metadata": {
            "tags": []
          }
        },
        {
          "output_type": "display_data",
          "data": {
            "text/html": [
              "<style> pre { white-space: pre-wrap; } </style>"
            ],
            "text/plain": [
              "<IPython.core.display.HTML object>"
            ]
          },
          "metadata": {
            "tags": []
          }
        },
        {
          "output_type": "display_data",
          "data": {
            "text/html": [
              "<style> pre { white-space: pre-wrap; } </style>"
            ],
            "text/plain": [
              "<IPython.core.display.HTML object>"
            ]
          },
          "metadata": {
            "tags": []
          }
        },
        {
          "output_type": "stream",
          "text": [
            "Human summary word count: 6703\n",
            "Human summary sentence: 144\n"
          ],
          "name": "stdout"
        }
      ]
    },
    {
      "cell_type": "code",
      "metadata": {
        "colab": {
          "base_uri": "https://localhost:8080/",
          "height": 17
        },
        "id": "BoavgCoGLWgi",
        "outputId": "badf3f01-7999-4c4c-e735-c375c5e616af"
      },
      "source": [
        "# Open the machine summary\n",
        "with open(machine_filename, 'r') as f:\n",
        "    machine_file = f.read()"
      ],
      "execution_count": 120,
      "outputs": [
        {
          "output_type": "display_data",
          "data": {
            "text/html": [
              "<style> pre { white-space: pre-wrap; } </style>"
            ],
            "text/plain": [
              "<IPython.core.display.HTML object>"
            ]
          },
          "metadata": {
            "tags": []
          }
        },
        {
          "output_type": "display_data",
          "data": {
            "text/html": [
              "<style> pre { white-space: pre-wrap; } </style>"
            ],
            "text/plain": [
              "<IPython.core.display.HTML object>"
            ]
          },
          "metadata": {
            "tags": []
          }
        },
        {
          "output_type": "display_data",
          "data": {
            "text/html": [
              "<style> pre { white-space: pre-wrap; } </style>"
            ],
            "text/plain": [
              "<IPython.core.display.HTML object>"
            ]
          },
          "metadata": {
            "tags": []
          }
        },
        {
          "output_type": "display_data",
          "data": {
            "text/html": [
              "<style> pre { white-space: pre-wrap; } </style>"
            ],
            "text/plain": [
              "<IPython.core.display.HTML object>"
            ]
          },
          "metadata": {
            "tags": []
          }
        }
      ]
    },
    {
      "cell_type": "code",
      "metadata": {
        "colab": {
          "base_uri": "https://localhost:8080/",
          "height": 72
        },
        "id": "lGNP9Sxm9KG9",
        "outputId": "1720650d-1aed-46de-d234-6f69da0213d3"
      },
      "source": [
        "# Evaluate the machine summary vs. human summary\n",
        "scorer = rouge_scorer.RougeScorer(['rouge1', 'rouge2', 'rougeL'], use_stemmer=True)\n",
        "scores = scorer.score(human_file, machine_file)\n",
        "print(scores)"
      ],
      "execution_count": 121,
      "outputs": [
        {
          "output_type": "display_data",
          "data": {
            "text/html": [
              "<style> pre { white-space: pre-wrap; } </style>"
            ],
            "text/plain": [
              "<IPython.core.display.HTML object>"
            ]
          },
          "metadata": {
            "tags": []
          }
        },
        {
          "output_type": "display_data",
          "data": {
            "text/html": [
              "<style> pre { white-space: pre-wrap; } </style>"
            ],
            "text/plain": [
              "<IPython.core.display.HTML object>"
            ]
          },
          "metadata": {
            "tags": []
          }
        },
        {
          "output_type": "display_data",
          "data": {
            "text/html": [
              "<style> pre { white-space: pre-wrap; } </style>"
            ],
            "text/plain": [
              "<IPython.core.display.HTML object>"
            ]
          },
          "metadata": {
            "tags": []
          }
        },
        {
          "output_type": "display_data",
          "data": {
            "text/html": [
              "<style> pre { white-space: pre-wrap; } </style>"
            ],
            "text/plain": [
              "<IPython.core.display.HTML object>"
            ]
          },
          "metadata": {
            "tags": []
          }
        },
        {
          "output_type": "stream",
          "text": [
            "{'rouge1': Score(precision=0.8879889975550123, recall=0.8498098859315589, fmeasure=0.8684800478254372), 'rouge2': Score(precision=0.7152682255845942, recall=0.6845107503290917, fmeasure=0.6995515695067266), 'rougeL': Score(precision=0.6428789731051344, recall=0.6152383737935069, fmeasure=0.6287550440890748)}\n"
          ],
          "name": "stdout"
        }
      ]
    },
    {
      "cell_type": "code",
      "metadata": {
        "id": "H4dsT2QknZfK",
        "colab": {
          "base_uri": "https://localhost:8080/",
          "height": 17
        },
        "outputId": "b0bdb0d3-cdf5-474b-932b-4f2f477bce24"
      },
      "source": [
        "# Demonstrate Biased TextRank with a bias on \"reinforcement\"\n",
        "\n",
        "#nlp = spacy.load(\"en_core_web_sm\")\n",
        "#nlp.add_pipe(\"biasedtextrank\", last=True)\n",
        "#doc = nlp(orig_text_n)\n",
        "\n",
        "#tr = doc._.textrank\n",
        "#tr.change_focus(focus=\"reinforcement\", bias=1.0, default_bias=0.0)\n",
        "\n",
        "#for sent in tr.summary(limit_phrases=50, limit_sentences=3, preserve_order=True):\n",
        "    #print(sent.start, sent)"
      ],
      "execution_count": 122,
      "outputs": [
        {
          "output_type": "display_data",
          "data": {
            "text/html": [
              "<style> pre { white-space: pre-wrap; } </style>"
            ],
            "text/plain": [
              "<IPython.core.display.HTML object>"
            ]
          },
          "metadata": {
            "tags": []
          }
        },
        {
          "output_type": "display_data",
          "data": {
            "text/html": [
              "<style> pre { white-space: pre-wrap; } </style>"
            ],
            "text/plain": [
              "<IPython.core.display.HTML object>"
            ]
          },
          "metadata": {
            "tags": []
          }
        },
        {
          "output_type": "display_data",
          "data": {
            "text/html": [
              "<style> pre { white-space: pre-wrap; } </style>"
            ],
            "text/plain": [
              "<IPython.core.display.HTML object>"
            ]
          },
          "metadata": {
            "tags": []
          }
        },
        {
          "output_type": "display_data",
          "data": {
            "text/html": [
              "<style> pre { white-space: pre-wrap; } </style>"
            ],
            "text/plain": [
              "<IPython.core.display.HTML object>"
            ]
          },
          "metadata": {
            "tags": []
          }
        }
      ]
    }
  ]
}